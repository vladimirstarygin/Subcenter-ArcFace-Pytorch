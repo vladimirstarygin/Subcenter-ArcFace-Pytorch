{
 "cells": [
  {
   "cell_type": "code",
   "execution_count": 29,
   "id": "raised-capitol",
   "metadata": {},
   "outputs": [],
   "source": [
    "import cv2\n",
    "import json\n",
    "import torch\n",
    "from torch import nn\n",
    "from tqdm import tqdm\n",
    "import albumentations as A\n",
    "import albumentations.pytorch\n",
    "import torchvision.models as models\n",
    "from collections import OrderedDict, DefaultDict"
   ]
  },
  {
   "cell_type": "code",
   "execution_count": 30,
   "id": "prostate-bridges",
   "metadata": {},
   "outputs": [],
   "source": [
    "class Filtermodel(nn.Module):\n",
    "    '''\n",
    "        small embedding dim due to million classes\n",
    "    '''\n",
    "    def __init__(self,\n",
    "                 n_classes,\n",
    "                 embedding_dim = 2048,\n",
    "                 backbone='resnet50',\n",
    "                 pseudolabels=False):\n",
    "\n",
    "        super(Filtermodel, self).__init__()\n",
    "\n",
    "        self.pseudolabels = pseudolabels\n",
    "\n",
    "        if backbone == 'resnest50':\n",
    "            net = torch.hub.load('zhanghang1989/ResNeSt', 'resnest50', pretrained=True, force_reload =True)\n",
    "        elif backbone == 'resnet50':\n",
    "            net = models.resnet50(pretrained=True)  \n",
    "        elif backbone == 'resnet101':\n",
    "            net = torch.hub.load('pytorch/vision:v0.10.0', 'resnet101', pretrained=True)\n",
    "\n",
    "        self.embedder = nn.Sequential(\n",
    "            net.conv1,\n",
    "            net.bn1,\n",
    "            net.relu,\n",
    "            net.maxpool,\n",
    "            net.layer1,\n",
    "            net.layer2,\n",
    "            net.layer3,\n",
    "            net.layer4,\n",
    "            net.avgpool\n",
    "        )\n",
    "\n",
    "    def forward(self,x):\n",
    "        features = self.embedder(x).squeeze(-1).squeeze(-1)\n",
    "        return features"
   ]
  },
  {
   "cell_type": "code",
   "execution_count": 42,
   "id": "fluid-fifth",
   "metadata": {},
   "outputs": [],
   "source": [
    "WEIGHTS_PATH = '/home/local/last_mark/filter_train--epoch=00-val_loss=0.00-v1.ckpt'\n",
    "MARKUP_TRAIN_PATH = ''\n",
    "TRANSLATION_DICT_PATH = ''\n",
    "IMG_DIR = ''\n",
    "PATH_NEW_MARKUP = ''\n",
    "\n",
    "n_classes = 2384\n",
    "K = 3\n",
    "embedding_dim = 128\n",
    "h,w = 224,224\n",
    "mean = [0.491, 0.366, 0.29]\n",
    "std = [0.25, 0.25, 0.22]"
   ]
  },
  {
   "cell_type": "code",
   "execution_count": 32,
   "id": "imperial-nigeria",
   "metadata": {},
   "outputs": [],
   "source": [
    "state_dict = torch.load(WEIGHTS_PATH)"
   ]
  },
  {
   "cell_type": "markdown",
   "id": "animated-resolution",
   "metadata": {},
   "source": [
    "# Rename state_dict from lightning to classic torch"
   ]
  },
  {
   "cell_type": "code",
   "execution_count": 34,
   "id": "retired-plane",
   "metadata": {},
   "outputs": [],
   "source": [
    "new_state_dict = OrderedDict()\n",
    "for key, value in state_dict['state_dict'].items():\n",
    "    if key != \"metric_loss.weight\": \n",
    "        new_state_dict[key.split('.',1)[-1]] = value\n",
    "    else:\n",
    "        centroids = value"
   ]
  },
  {
   "cell_type": "code",
   "execution_count": 36,
   "id": "excess-association",
   "metadata": {},
   "outputs": [
    {
     "data": {
      "text/plain": [
       "<All keys matched successfully>"
      ]
     },
     "execution_count": 36,
     "metadata": {},
     "output_type": "execute_result"
    }
   ],
   "source": [
    "net = Filtermodel(n_classes)\n",
    "net.load_state_dict(new_state_dict)\n",
    "net = net.cuda()\n",
    "net.eval()"
   ]
  },
  {
   "cell_type": "code",
   "execution_count": 45,
   "id": "royal-affiliation",
   "metadata": {},
   "outputs": [],
   "source": [
    "centroids = centroids.reshape(-1,K,embedding_dim)"
   ]
  },
  {
   "cell_type": "code",
   "execution_count": null,
   "id": "marked-louisiana",
   "metadata": {},
   "outputs": [],
   "source": [
    "with open(MARKUP_TRAIN_PATH,'r') as f:\n",
    "    markup = json.load(f)"
   ]
  },
  {
   "cell_type": "code",
   "execution_count": null,
   "id": "steady-elite",
   "metadata": {},
   "outputs": [],
   "source": [
    "with open(TRANSLATION_DICT_PATH,'r') as f:\n",
    "    translation = json.load(f)"
   ]
  },
  {
   "cell_type": "code",
   "execution_count": null,
   "id": "embedded-jerusalem",
   "metadata": {},
   "outputs": [],
   "source": [
    "test_augs = A.Compose(test_augs + [A.Resize(h, w), \n",
    "                                   A.Normalize(mean=mean, std=std),\n",
    "                                   albumentations.pytorch.transforms.ToTensorV2()])"
   ]
  },
  {
   "cell_type": "markdown",
   "id": "municipal-serum",
   "metadata": {},
   "source": [
    "# Find embedding for each image"
   ]
  },
  {
   "cell_type": "code",
   "execution_count": null,
   "id": "wicked-maldives",
   "metadata": {},
   "outputs": [],
   "source": [
    "embeddings = DefaultDict(list)\n",
    "\n",
    "for path, cl in markup.items():\n",
    "    img_path = os.path.join(IMG_DIR, path)\n",
    "    img = cv2.cvtColor(cv2.imread(img_path), cv2.COLOR_BGR2RGB)\n",
    "    img = test_augs(image=img)['image'].cuda()\n",
    "    img = img.unsqueeze(0)\n",
    "    \n",
    "    with torch.no_grad():\n",
    "        features = net(img).cpu().asnumpy()[0]\n",
    "        \n",
    "    features = features/scipy.linalg.norm(features)    \n",
    "    embeddings[translation[cl]].append(features)"
   ]
  },
  {
   "cell_type": "markdown",
   "id": "super-jacket",
   "metadata": {},
   "source": [
    "# Find dominant centroids"
   ]
  },
  {
   "cell_type": "code",
   "execution_count": null,
   "id": "brutal-presentation",
   "metadata": {},
   "outputs": [],
   "source": [
    "dominant_centers = DefaultDict()\n",
    "\n",
    "for i in tqdm(embedding_dict.keys()):\n",
    "    full_cosine = []\n",
    "    embs = embedding_dict[i]\n",
    "    centers = centroids[i]\n",
    "    centers = centers/scipy.linalg.norm(centers)\n",
    "    cl = emb @ centers.T\n",
    "    cl = list(np.argmax(cl,axis=1))\n",
    "    center = max(cl,key=cl.count)\n",
    "    dominant_centers[i] = center"
   ]
  },
  {
   "cell_type": "markdown",
   "id": "major-growing",
   "metadata": {},
   "source": [
    "# Filtrate data"
   ]
  },
  {
   "cell_type": "code",
   "execution_count": null,
   "id": "serious-marina",
   "metadata": {},
   "outputs": [],
   "source": [
    "embedding_drop = {}\n",
    "reid_threshold = 0.25\n",
    "\n",
    "for path, cl in markup.items():\n",
    "    img_path = os.path.join(IMG_DIR, path)\n",
    "    img = cv2.cvtColor(cv2.imread(img_path), cv2.COLOR_BGR2RGB)\n",
    "    img = test_augs(image=img)['image'].cuda()\n",
    "    img = img.unsqueeze(0)\n",
    "    \n",
    "    with torch.no_grad():\n",
    "        features = net(img).cpu().asnumpy()[0]\n",
    "    \n",
    "    center = centroids[translation[cl]][dominant_centers[translation[cl]]]\n",
    "    features = features/scipy.linalg.norm(features)    \n",
    "    \n",
    "    center = center/scipy.linalg.norm(center)\n",
    "\n",
    "    cos_dist = emb @ center.T\n",
    "    if cos_dist < reid_threshold:\n",
    "        embedding_drop[path] = cl\n",
    "        \n",
    "print('Num data dropped:', len(embedding_drop))\n",
    "print('Percentage of data dropped:', len(embedding_drop)/len(markup))"
   ]
  },
  {
   "cell_type": "markdown",
   "id": "fifth-mailman",
   "metadata": {},
   "source": [
    "# Remake markup"
   ]
  },
  {
   "cell_type": "code",
   "execution_count": null,
   "id": "retained-liechtenstein",
   "metadata": {},
   "outputs": [],
   "source": [
    "new_markup = {}\n",
    "for path, cl in markup.items():\n",
    "    if path in embedding_drop:\n",
    "        continue\n",
    "    new_markup[path] = cl\n",
    "with open(PATH_NEW_MARKUP,'w') as f:\n",
    "    json.dump(new_markup,f,indent=4,ensure_ascii=False)"
   ]
  }
 ],
 "metadata": {
  "kernelspec": {
   "display_name": "Python 3",
   "language": "python",
   "name": "python3"
  },
  "language_info": {
   "codemirror_mode": {
    "name": "ipython",
    "version": 3
   },
   "file_extension": ".py",
   "mimetype": "text/x-python",
   "name": "python",
   "nbconvert_exporter": "python",
   "pygments_lexer": "ipython3",
   "version": "3.8.10"
  }
 },
 "nbformat": 4,
 "nbformat_minor": 5
}
